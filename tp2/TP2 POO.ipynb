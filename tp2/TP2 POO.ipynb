{
 "cells": [
  {
   "cell_type": "code",
   "execution_count": 1,
   "id": "c2498871",
   "metadata": {},
   "outputs": [
    {
     "name": "stdout",
     "output_type": "stream",
     "text": [
      "[2002, 2009, 2016, 2023, 2037, 2044, 2051, 2058, 2072, 2079, 2086, 2093, 2107, 2114, 2121, 2128, 2142, 2149, 2156, 2163, 2177, 2184, 2191, 2198, 2212, 2219, 2226, 2233, 2247, 2254, 2261, 2268, 2282, 2289, 2296, 2303, 2317, 2324, 2331, 2338, 2352, 2359, 2366, 2373, 2387, 2394, 2401, 2408, 2422, 2429, 2436, 2443, 2457, 2464, 2471, 2478, 2492, 2499, 2506, 2513, 2527, 2534, 2541, 2548, 2562, 2569, 2576, 2583, 2597, 2604, 2611, 2618, 2632, 2639, 2646, 2653, 2667, 2674, 2681, 2688, 2702, 2709, 2716, 2723, 2737, 2744, 2751, 2758, 2772, 2779, 2786, 2793, 2807, 2814, 2821, 2828, 2842, 2849, 2856, 2863, 2877, 2884, 2891, 2898, 2912, 2919, 2926, 2933, 2947, 2954, 2961, 2968, 2982, 2989, 2996, 3003, 3017, 3024, 3031, 3038, 3052, 3059, 3066, 3073, 3087, 3094, 3101, 3108, 3122, 3129, 3136, 3143, 3157, 3164, 3171, 3178, 3192, 3199]\n"
     ]
    }
   ],
   "source": [
    "#exercice1\n",
    "#initialisation de la liste\n",
    "resultats = []\n",
    "#creation de la boucle for \n",
    "for nombre in range(2000, 3201):\n",
    "    #creation de la condition divisible par 7 non divisible par 5\n",
    "    if nombre % 7 == 0 and nombre % 5 != 0:\n",
    "        #ajouter la valeur dans la liste si la condition est verifier\n",
    "        resultats.append(nombre)\n",
    "#afficher la liste resultats\n",
    "print(resultats)\n"
   ]
  },
  {
   "cell_type": "code",
   "execution_count": 14,
   "id": "62ca0f8f",
   "metadata": {},
   "outputs": [
    {
     "name": "stdout",
     "output_type": "stream",
     "text": [
      "Entrez un nombre : 5\n",
      "La factorielle de 5 est 120.\n"
     ]
    }
   ],
   "source": [
    "#exerice2\n",
    "# commande qui permet a l'utilisateur d'entrer un nombre entier de son choix\n",
    "valeur = int(input(\"Entrez un nombre : \"))\n",
    "\n",
    "# Initialisation de la variable factorielle\n",
    "factorielle = 1\n",
    "\n",
    "# Verifier si le nombre est negatif, nul ou positif\n",
    "if valeur < 0:\n",
    "    print(\"La factorielle n'est pas défini pour les nombres negatifs.\")\n",
    "elif valeur == 0:\n",
    "    print(\"La factorielle de 0 est 1.\")\n",
    "else:\n",
    "    # Calcul du factorielle pour les nombres positifs\n",
    "    for i in range(1, valeur + 1):\n",
    "        factorielle *= i\n",
    "    print(f\"La factorielle de {valeur} est {factorielle}.\")\n"
   ]
  },
  {
   "cell_type": "code",
   "execution_count": 27,
   "id": "dbf5ba77",
   "metadata": {},
   "outputs": [
    {
     "name": "stdout",
     "output_type": "stream",
     "text": [
      "Entrez un nombre entier : 5\n",
      "{1: 1, 2: 4, 3: 9, 4: 16, 5: 25}\n"
     ]
    }
   ],
   "source": [
    "#exercice3\n",
    "# commande qui permet a l'utilisateur d'entrer un nombre entier de son choix\n",
    "nombre = int(input(\"Entrez un nombre entier : \"))\n",
    "\n",
    "# Initialisation d'un dictionnaire \n",
    "dictio = {}\n",
    "\n",
    "#remplissage du dictionnaire avec le resultat\n",
    "for i in range(1, nombre + 1):\n",
    "    dictio[i] = i * i\n",
    "\n",
    "#affichage du dictionnaire \n",
    "print(dictio)\n",
    "\n"
   ]
  },
  {
   "cell_type": "code",
   "execution_count": 23,
   "id": "7abf4e91",
   "metadata": {},
   "outputs": [
    {
     "name": "stdout",
     "output_type": "stream",
     "text": [
      "ktten\n",
      "itten\n",
      "erreur : L'indice n depasse la longueur de la chaine .\n",
      "kitten\n"
     ]
    }
   ],
   "source": [
    "#exercice4\n",
    "def missing_char(c, n):\n",
    "    # Vérifiez que l'indice n est valide\n",
    "    if 0 <= n < len(c):\n",
    "        # Crée une nouvelle chaine en supprimant les characteres a partir d'n , puis la conctatener avec c[n+1:] afin que seul le character d'indice n qui soit supprimer\n",
    "        c2 = c[:n] + c[n+1:]\n",
    "        return c2\n",
    "    else:\n",
    "        # Gérez le cas ou l'indice n n'est pas valide\n",
    "        print(\"erreur : L'indice n depasse la longueur de la chaine .\")\n",
    "        return c  # Renvoie la chaine d'origine sans modification\n",
    "\n",
    "# Exemples d'utilisation\n",
    "print(missing_char('kitten', 1))  # 'ktten'\n",
    "print(missing_char('kitten', 0))  # 'itten'\n",
    "print(missing_char('kitten', 8))  # exemple d'une erreur d'indice\n",
    "\n"
   ]
  },
  {
   "cell_type": "code",
   "execution_count": 28,
   "id": "33bf8026",
   "metadata": {},
   "outputs": [
    {
     "name": "stdout",
     "output_type": "stream",
     "text": [
      "le tableau 1: [0 1 2]\n",
      "le tableau 2: [2 1 0]\n",
      "la matrice de convergence de nos deux tableau :\n",
      "[[ 1. -1.]\n",
      " [-1.  1.]]\n"
     ]
    }
   ],
   "source": [
    "#exercice5\n",
    "#import de la librairy numpy \n",
    "import numpy as np\n",
    "\n",
    "# création des tableaux demandé dans l'exercice\n",
    "T1 = np.array([0, 1, 2])\n",
    "\n",
    "T2 = np.array([2, 1, 0])\n",
    "\n",
    "# Calcul de la matrice de covariance\n",
    "matrice_covariance = np.cov(T1, T2)\n",
    "#affiche le tableau 1\n",
    "print(\"le tableau 1:\" , T1)\n",
    "#affiche le tableau 2\n",
    "print(\"le tableau 2:\" , T2)\n",
    "#affiche la matrice de convergence des deux tableaux\n",
    "print(\"la matrice de convergence de nos deux tableau :\")\n",
    "print(matrice_covariance)"
   ]
  },
  {
   "cell_type": "code",
   "execution_count": 29,
   "id": "72840b1c",
   "metadata": {},
   "outputs": [
    {
     "name": "stdout",
     "output_type": "stream",
     "text": [
      "Éléments du tableau d'origine :\n",
      "[[0 1]\n",
      " [2 3]\n",
      " [4 5]]\n",
      "Tableau à lister :\n",
      "[[0, 1], [2, 3], [4, 5]]\n"
     ]
    }
   ],
   "source": [
    "#exercice6\n",
    "#import de la librairy numpy \n",
    "import numpy as np\n",
    "\n",
    "# Crée un tableau \n",
    "T1 = np.array([[0, 1], [2, 3], [4, 5]])\n",
    "\n",
    "# convertit le tableau en liste\n",
    "L1 = T1.tolist()\n",
    "\n",
    "# Affiche le tableau d'origine\n",
    "print(\"Éléments du tableau d'origine :\")\n",
    "print(T1)\n",
    "\n",
    "# Affiche la liste\n",
    "print(\"Tableau à lister :\")\n",
    "print(L1)\n"
   ]
  },
  {
   "cell_type": "code",
   "execution_count": null,
   "id": "7724d7ce",
   "metadata": {},
   "outputs": [],
   "source": []
  }
 ],
 "metadata": {
  "kernelspec": {
   "display_name": "Python 3 (ipykernel)",
   "language": "python",
   "name": "python3"
  },
  "language_info": {
   "codemirror_mode": {
    "name": "ipython",
    "version": 3
   },
   "file_extension": ".py",
   "mimetype": "text/x-python",
   "name": "python",
   "nbconvert_exporter": "python",
   "pygments_lexer": "ipython3",
   "version": "3.11.5"
  }
 },
 "nbformat": 4,
 "nbformat_minor": 5
}
